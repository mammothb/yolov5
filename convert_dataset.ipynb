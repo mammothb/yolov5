{
 "metadata": {
  "language_info": {
   "codemirror_mode": {
    "name": "ipython",
    "version": 3
   },
   "file_extension": ".py",
   "mimetype": "text/x-python",
   "name": "python",
   "nbconvert_exporter": "python",
   "pygments_lexer": "ipython3",
   "version": "3.8.5"
  },
  "orig_nbformat": 2,
  "kernelspec": {
   "name": "python385jvsc74a57bd08385ea9c1b89c046143ed892d3a6417099bb117058907eb25ccd44462e08e108",
   "display_name": "Python 3.8.5 64-bit ('hawking': conda)"
  }
 },
 "nbformat": 4,
 "nbformat_minor": 2,
 "cells": [
  {
   "cell_type": "code",
   "execution_count": 1,
   "metadata": {},
   "outputs": [],
   "source": [
    "from pathlib import Path\n",
    "import shutil\n",
    "\n",
    "import cv2"
   ]
  },
  {
   "cell_type": "code",
   "execution_count": 2,
   "metadata": {},
   "outputs": [],
   "source": [
    "dataset_name = \"oidv6\"\n",
    "original_data_dir = Path.cwd().parent / dataset_name\n",
    "converted_data_dir = original_data_dir.parent / f\"{dataset_name}_converted\""
   ]
  },
  {
   "cell_type": "code",
   "execution_count": 3,
   "metadata": {},
   "outputs": [],
   "source": [
    "classes = [path.name for path in (original_data_dir / \"train\").iterdir()]"
   ]
  },
  {
   "cell_type": "code",
   "execution_count": 4,
   "metadata": {},
   "outputs": [
    {
     "output_type": "stream",
     "name": "stdout",
     "text": [
      "0 apple\n",
      "1 banana\n",
      "2 box\n",
      "3 cart\n",
      "4 gas_stove\n",
      "5 kitchen_&_dining_room_table\n",
      "6 orange\n",
      "7 table\n",
      "8 wheelchair\n",
      "9 wok\n",
      "10 wood-burning_stove\n",
      "0 apple\n",
      "1 banana\n",
      "2 box\n",
      "3 cart\n",
      "4 gas_stove\n",
      "5 kitchen_&_dining_room_table\n",
      "6 orange\n",
      "7 table\n",
      "8 wheelchair\n",
      "9 wok\n",
      "10 wood-burning_stove\n",
      "0 apple\n",
      "1 banana\n",
      "2 box\n",
      "3 cart\n",
      "4 gas_stove\n",
      "5 kitchen_&_dining_room_table\n",
      "6 orange\n",
      "7 table\n",
      "8 wheelchair\n",
      "9 wok\n",
      "10 wood-burning_stove\n"
     ]
    }
   ],
   "source": [
    "for subset in [\"train\", \"validation\", \"test\"]:\n",
    "    image_dir = converted_data_dir / \"images\" / subset\n",
    "    label_dir = converted_data_dir / \"labels\" / subset\n",
    "    image_dir.mkdir(parents=True, exist_ok=True)\n",
    "    label_dir.mkdir(parents=True, exist_ok=True)\n",
    "    for i, class_name in enumerate(classes):\n",
    "        print(i, class_name)\n",
    "        src_class_dir = original_data_dir / subset / class_name\n",
    "        for filename in src_class_dir.glob(\"*.jpg\"):\n",
    "            shutil.copy(filename, image_dir / filename.name)\n",
    "            label_filename = f\"{filename.stem}.txt\"\n",
    "            curr_image = cv2.imread(str(filename))\n",
    "            with open(src_class_dir / \"labels\" / label_filename, \"r\") as infile, open(\n",
    "                label_dir / label_filename, \"w\"\n",
    "            ) as outfile:\n",
    "                for line in infile.readlines():\n",
    "                    x_min, y_min, x_max, y_max = map(float, line.split(\" \")[1:])\n",
    "                    outfile.write(\n",
    "                        f\"{i} \"\n",
    "                        f\"{(x_min + x_max) / 2 / curr_image.shape[1]} \"\n",
    "                        f\"{(y_min + y_max) / 2 / curr_image.shape[0]} \"\n",
    "                        f\"{(x_max - x_min) / curr_image.shape[1]} \"\n",
    "                        f\"{(y_max - y_min) / curr_image.shape[0]}\\n\"\n",
    "                    )\n"
   ]
  }
 ]
}