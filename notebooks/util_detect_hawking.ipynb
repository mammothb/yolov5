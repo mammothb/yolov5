{
 "metadata": {
  "language_info": {
   "codemirror_mode": {
    "name": "ipython",
    "version": 3
   },
   "file_extension": ".py",
   "mimetype": "text/x-python",
   "name": "python",
   "nbconvert_exporter": "python",
   "pygments_lexer": "ipython3",
   "version": "3.8.5"
  },
  "orig_nbformat": 4,
  "kernelspec": {
   "name": "python3",
   "display_name": "Python 3.8.5 64-bit"
  },
  "interpreter": {
   "hash": "8385ea9c1b89c046143ed892d3a6417099bb117058907eb25ccd44462e08e108"
  }
 },
 "nbformat": 4,
 "nbformat_minor": 2,
 "cells": [
  {
   "cell_type": "code",
   "execution_count": 19,
   "metadata": {},
   "outputs": [],
   "source": [
    "from pathlib import Path\n",
    "\n",
    "import pandas as pd"
   ]
  },
  {
   "cell_type": "code",
   "execution_count": 52,
   "metadata": {},
   "outputs": [],
   "source": [
    "data_dir = Path.cwd().parent / \"runs\" / \"detect\"\n",
    "exp_name = \"yolov5l_freeze_11classes_local_distractor_large_shear_test_data_aug\""
   ]
  },
  {
   "cell_type": "code",
   "execution_count": 53,
   "metadata": {},
   "outputs": [],
   "source": [
    "class_names = [\n",
    "    \"apple\", \"banana\", \"orange\", \"wheelchair\", \"wok\", \"box\", \"table\",\n",
    "    \"tissue\", \"gas_cylinder\", \"burner\", \"cart\"\n",
    "]\n",
    "class_idx = {name: i for i, name in enumerate(class_names)}\n",
    "\n",
    "results = []\n",
    "for path in (data_dir / exp_name / \"labels\").glob(\"*.txt\"):\n",
    "    class_name = \" \".join(path.stem.split(\"_\")[:2])\n",
    "    with open(path, \"r\") as infile:\n",
    "        predictions = [\n",
    "            int(x.split()[0]) for x in infile.read().strip().splitlines()\n",
    "        ]\n",
    "    pred = \"None\"\n",
    "    if class_name == \"fruit vendor\":\n",
    "        if (set([class_idx[\"apple\"], class_idx[\"banana\"],\n",
    "                 class_idx[\"orange\"]]).intersection(predictions)\n",
    "            and class_idx[\"table\"] in predictions\n",
    "        ):\n",
    "            pred = class_name\n",
    "    elif class_name == \"roasted chestnut\":\n",
    "        if (\n",
    "            class_idx[\"wok\"] in predictions\n",
    "            and (\n",
    "                class_idx[\"gas_cylinder\"] in predictions\n",
    "                or class_idx[\"burner\"] in predictions\n",
    "            )\n",
    "        ):\n",
    "            pred = class_name\n",
    "    elif class_name == \"tissue vendor\":\n",
    "        if (\n",
    "            class_idx[\"wheelchair\"] in predictions\n",
    "            and class_idx[\"tissue\"] in predictions\n",
    "        ):\n",
    "            pred = class_name\n",
    "    results.append([path.name, class_name, pred])\n"
   ]
  },
  {
   "cell_type": "code",
   "execution_count": 44,
   "metadata": {},
   "outputs": [],
   "source": [
    "def compare_prediction(group):\n",
    "    count = 0\n",
    "    for i, row in group.iterrows():\n",
    "        if row[\"class\"] == row[\"pred\"]:\n",
    "            count += 1\n",
    "    return count / len(group)"
   ]
  },
  {
   "cell_type": "code",
   "execution_count": 54,
   "metadata": {},
   "outputs": [],
   "source": [
    "df = pd.DataFrame(results, columns=[\"filename\", \"class\", \"pred\"])"
   ]
  },
  {
   "cell_type": "code",
   "execution_count": 55,
   "metadata": {},
   "outputs": [
    {
     "output_type": "execute_result",
     "data": {
      "text/plain": [
       "                        filename             class              pred\n",
       "0             fruit_vendor_1.txt      fruit vendor              None\n",
       "1             fruit_vendor_2.txt      fruit vendor              None\n",
       "2             fruit_vendor_3.txt      fruit vendor              None\n",
       "3             fruit_vendor_4.txt      fruit vendor              None\n",
       "4         roasted_chestnut_1.txt  roasted chestnut  roasted chestnut\n",
       "5         roasted_chestnut_2.txt  roasted chestnut  roasted chestnut\n",
       "6         roasted_chestnut_3.txt  roasted chestnut              None\n",
       "7         roasted_chestnut_4.txt  roasted chestnut  roasted chestnut\n",
       "8   roasted_chestnut_large_1.txt  roasted chestnut  roasted chestnut\n",
       "9   roasted_chestnut_large_2.txt  roasted chestnut              None\n",
       "10           tissue_vendor_1.txt     tissue vendor              None\n",
       "11           tissue_vendor_2.txt     tissue vendor              None\n",
       "12           tissue_vendor_3.txt     tissue vendor     tissue vendor\n",
       "13           tissue_vendor_5.txt     tissue vendor     tissue vendor\n",
       "14           tissue_vendor_6.txt     tissue vendor              None"
      ],
      "text/html": "<div>\n<style scoped>\n    .dataframe tbody tr th:only-of-type {\n        vertical-align: middle;\n    }\n\n    .dataframe tbody tr th {\n        vertical-align: top;\n    }\n\n    .dataframe thead th {\n        text-align: right;\n    }\n</style>\n<table border=\"1\" class=\"dataframe\">\n  <thead>\n    <tr style=\"text-align: right;\">\n      <th></th>\n      <th>filename</th>\n      <th>class</th>\n      <th>pred</th>\n    </tr>\n  </thead>\n  <tbody>\n    <tr>\n      <th>0</th>\n      <td>fruit_vendor_1.txt</td>\n      <td>fruit vendor</td>\n      <td>None</td>\n    </tr>\n    <tr>\n      <th>1</th>\n      <td>fruit_vendor_2.txt</td>\n      <td>fruit vendor</td>\n      <td>None</td>\n    </tr>\n    <tr>\n      <th>2</th>\n      <td>fruit_vendor_3.txt</td>\n      <td>fruit vendor</td>\n      <td>None</td>\n    </tr>\n    <tr>\n      <th>3</th>\n      <td>fruit_vendor_4.txt</td>\n      <td>fruit vendor</td>\n      <td>None</td>\n    </tr>\n    <tr>\n      <th>4</th>\n      <td>roasted_chestnut_1.txt</td>\n      <td>roasted chestnut</td>\n      <td>roasted chestnut</td>\n    </tr>\n    <tr>\n      <th>5</th>\n      <td>roasted_chestnut_2.txt</td>\n      <td>roasted chestnut</td>\n      <td>roasted chestnut</td>\n    </tr>\n    <tr>\n      <th>6</th>\n      <td>roasted_chestnut_3.txt</td>\n      <td>roasted chestnut</td>\n      <td>None</td>\n    </tr>\n    <tr>\n      <th>7</th>\n      <td>roasted_chestnut_4.txt</td>\n      <td>roasted chestnut</td>\n      <td>roasted chestnut</td>\n    </tr>\n    <tr>\n      <th>8</th>\n      <td>roasted_chestnut_large_1.txt</td>\n      <td>roasted chestnut</td>\n      <td>roasted chestnut</td>\n    </tr>\n    <tr>\n      <th>9</th>\n      <td>roasted_chestnut_large_2.txt</td>\n      <td>roasted chestnut</td>\n      <td>None</td>\n    </tr>\n    <tr>\n      <th>10</th>\n      <td>tissue_vendor_1.txt</td>\n      <td>tissue vendor</td>\n      <td>None</td>\n    </tr>\n    <tr>\n      <th>11</th>\n      <td>tissue_vendor_2.txt</td>\n      <td>tissue vendor</td>\n      <td>None</td>\n    </tr>\n    <tr>\n      <th>12</th>\n      <td>tissue_vendor_3.txt</td>\n      <td>tissue vendor</td>\n      <td>tissue vendor</td>\n    </tr>\n    <tr>\n      <th>13</th>\n      <td>tissue_vendor_5.txt</td>\n      <td>tissue vendor</td>\n      <td>tissue vendor</td>\n    </tr>\n    <tr>\n      <th>14</th>\n      <td>tissue_vendor_6.txt</td>\n      <td>tissue vendor</td>\n      <td>None</td>\n    </tr>\n  </tbody>\n</table>\n</div>"
     },
     "metadata": {},
     "execution_count": 55
    }
   ],
   "source": [
    "df"
   ]
  },
  {
   "cell_type": "code",
   "execution_count": 56,
   "metadata": {},
   "outputs": [],
   "source": [
    "summary = df.groupby(\"class\").apply(compare_prediction)"
   ]
  },
  {
   "cell_type": "code",
   "execution_count": 57,
   "metadata": {},
   "outputs": [],
   "source": [
    "df.to_csv(data_dir / exp_name / \"pred.csv\")\n",
    "summary.to_csv(data_dir / exp_name / \"summary.csv\")"
   ]
  }
 ]
}