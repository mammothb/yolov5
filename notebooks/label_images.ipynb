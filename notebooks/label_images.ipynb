{
 "metadata": {
  "language_info": {
   "codemirror_mode": {
    "name": "ipython",
    "version": 3
   },
   "file_extension": ".py",
   "mimetype": "text/x-python",
   "name": "python",
   "nbconvert_exporter": "python",
   "pygments_lexer": "ipython3",
   "version": "3.8.5"
  },
  "orig_nbformat": 2,
  "kernelspec": {
   "name": "python385jvsc74a57bd08385ea9c1b89c046143ed892d3a6417099bb117058907eb25ccd44462e08e108",
   "display_name": "Python 3.8.5 64-bit"
  }
 },
 "nbformat": 4,
 "nbformat_minor": 2,
 "cells": [
  {
   "cell_type": "code",
   "execution_count": 1,
   "metadata": {},
   "outputs": [],
   "source": [
    "import os\n",
    "from pathlib import Path\n",
    "import shutil\n",
    "\n",
    "import cv2\n",
    "import matplotlib.patches as patches\n",
    "import matplotlib.pyplot as plt\n",
    "import numpy as np\n",
    "import pandas as pd"
   ]
  },
  {
   "cell_type": "code",
   "execution_count": 2,
   "metadata": {},
   "outputs": [],
   "source": [
    "data_dir = Path.cwd().parent / \"syndata-generation\" / \"hawking_output_dir\"\n",
    "image_dir = data_dir / \"images\"\n",
    "label_dir = data_dir / \"annotations\"\n",
    "output_dir = data_dir / \"labeled_test_data\"\n",
    "output_dir.mkdir(parents=True, exist_ok=True)"
   ]
  },
  {
   "cell_type": "code",
   "execution_count": 5,
   "metadata": {},
   "outputs": [],
   "source": [
    "for image_path in image_dir.glob(\"*.jpg\"):\n",
    "    image = cv2.imread(str(image_path))\n",
    "    h, w = image.shape[:-1]\n",
    "    with open(label_dir / f\"{image_path.stem.split('_')[0]}.txt\", \"r\") as infile:\n",
    "        boxes = [line.strip().split(\" \") for line in infile.readlines()]\n",
    "        for i, box in enumerate(boxes):\n",
    "            boxes[i][1:] = map(float, box[1:])\n",
    "    for box in boxes:\n",
    "        x, y, width, height = map(int, box[1:])\n",
    "        x = int(box[1] * w)\n",
    "        y = int(box[2] * h)\n",
    "        width = int(box[3] * w)\n",
    "        height = int(box[4] * h)\n",
    "        image = cv2.rectangle(image, (x - width // 2, y - height // 2), (x + width // 2, y + height // 2), (255, 0, 0), 3)\n",
    "        # image = cv2.rectangle(image, (int(box[1]), int(box[2])), (int(box[3]), int(box[4])), (255, 0, 0), 3)\n",
    "    cv2.imwrite(str(output_dir / image_path.name), image)"
   ]
  },
  {
   "cell_type": "code",
   "execution_count": 4,
   "metadata": {},
   "outputs": [],
   "source": [
    "original_stems = [path.stem for path in image_dir.glob(\"*.jpg\")]\n",
    "filtered_stems = [path.stem for path in output_dir.glob(\"*.jpg\")]"
   ]
  },
  {
   "cell_type": "code",
   "execution_count": 18,
   "metadata": {},
   "outputs": [
    {
     "output_type": "stream",
     "name": "stdout",
     "text": [
      "221 131\n"
     ]
    }
   ],
   "source": [
    "print(len(original_stems), len(filtered_stems))"
   ]
  },
  {
   "cell_type": "code",
   "execution_count": 20,
   "metadata": {},
   "outputs": [],
   "source": [
    "removal_stems = list(set(original_stems) - set(filtered_stems))"
   ]
  },
  {
   "cell_type": "code",
   "execution_count": 23,
   "metadata": {},
   "outputs": [],
   "source": [
    "for stem in removal_stems:\n",
    "    os.remove(image_dir / f\"{stem}.jpg\")\n",
    "    os.remove(label_dir / f\"{stem}.txt\")"
   ]
  }
 ]
}