{
 "metadata": {
  "language_info": {
   "codemirror_mode": {
    "name": "ipython",
    "version": 3
   },
   "file_extension": ".py",
   "mimetype": "text/x-python",
   "name": "python",
   "nbconvert_exporter": "python",
   "pygments_lexer": "ipython3",
   "version": "3.8.5"
  },
  "orig_nbformat": 2,
  "kernelspec": {
   "name": "python3",
   "display_name": "Python 3.8.5 64-bit ('hawking': conda)"
  },
  "interpreter": {
   "hash": "8385ea9c1b89c046143ed892d3a6417099bb117058907eb25ccd44462e08e108"
  }
 },
 "nbformat": 4,
 "nbformat_minor": 2,
 "cells": [
  {
   "cell_type": "code",
   "execution_count": 1,
   "metadata": {},
   "outputs": [],
   "source": [
    "import os\n",
    "from pathlib import Path\n",
    "import shutil\n",
    "\n",
    "import cv2\n",
    "import matplotlib.patches as patches\n",
    "import matplotlib.pyplot as plt\n",
    "import numpy as np\n",
    "import pandas as pd"
   ]
  },
  {
   "cell_type": "code",
   "execution_count": 2,
   "metadata": {},
   "outputs": [],
   "source": [
    "data_dir = Path.cwd().parents[1] / \"syndata-generation\" / \"hawking_output_dir\"\n",
    "image_dir = data_dir / \"images\"\n",
    "label_dir = data_dir / \"annotations\"\n",
    "output_dir = data_dir / \"labeled_data\"\n",
    "output_dir.mkdir(parents=True, exist_ok=True)"
   ]
  },
  {
   "cell_type": "code",
   "execution_count": 5,
   "metadata": {
    "tags": []
   },
   "outputs": [
    {
     "output_type": "stream",
     "name": "stdout",
     "text": [
      "c:\\GitRepos\\yolov5_workspace\\syndata-generation\\hawking_output_dir\\images\\100_none.jpg\n",
      "c:\\GitRepos\\yolov5_workspace\\syndata-generation\\hawking_output_dir\\images\\101_none.jpg\n",
      "c:\\GitRepos\\yolov5_workspace\\syndata-generation\\hawking_output_dir\\images\\102_none.jpg\n",
      "c:\\GitRepos\\yolov5_workspace\\syndata-generation\\hawking_output_dir\\images\\103_none.jpg\n",
      "c:\\GitRepos\\yolov5_workspace\\syndata-generation\\hawking_output_dir\\images\\104_none.jpg\n",
      "c:\\GitRepos\\yolov5_workspace\\syndata-generation\\hawking_output_dir\\images\\105_none.jpg\n",
      "c:\\GitRepos\\yolov5_workspace\\syndata-generation\\hawking_output_dir\\images\\106_none.jpg\n",
      "c:\\GitRepos\\yolov5_workspace\\syndata-generation\\hawking_output_dir\\images\\107_none.jpg\n",
      "c:\\GitRepos\\yolov5_workspace\\syndata-generation\\hawking_output_dir\\images\\108_none.jpg\n",
      "c:\\GitRepos\\yolov5_workspace\\syndata-generation\\hawking_output_dir\\images\\109_none.jpg\n",
      "c:\\GitRepos\\yolov5_workspace\\syndata-generation\\hawking_output_dir\\images\\10_none.jpg\n",
      "c:\\GitRepos\\yolov5_workspace\\syndata-generation\\hawking_output_dir\\images\\110_none.jpg\n",
      "c:\\GitRepos\\yolov5_workspace\\syndata-generation\\hawking_output_dir\\images\\111_none.jpg\n",
      "c:\\GitRepos\\yolov5_workspace\\syndata-generation\\hawking_output_dir\\images\\112_none.jpg\n",
      "c:\\GitRepos\\yolov5_workspace\\syndata-generation\\hawking_output_dir\\images\\113_none.jpg\n",
      "c:\\GitRepos\\yolov5_workspace\\syndata-generation\\hawking_output_dir\\images\\114_none.jpg\n",
      "c:\\GitRepos\\yolov5_workspace\\syndata-generation\\hawking_output_dir\\images\\115_none.jpg\n",
      "c:\\GitRepos\\yolov5_workspace\\syndata-generation\\hawking_output_dir\\images\\116_none.jpg\n",
      "c:\\GitRepos\\yolov5_workspace\\syndata-generation\\hawking_output_dir\\images\\117_none.jpg\n",
      "c:\\GitRepos\\yolov5_workspace\\syndata-generation\\hawking_output_dir\\images\\118_none.jpg\n",
      "c:\\GitRepos\\yolov5_workspace\\syndata-generation\\hawking_output_dir\\images\\119_none.jpg\n",
      "c:\\GitRepos\\yolov5_workspace\\syndata-generation\\hawking_output_dir\\images\\11_none.jpg\n",
      "c:\\GitRepos\\yolov5_workspace\\syndata-generation\\hawking_output_dir\\images\\120_none.jpg\n",
      "c:\\GitRepos\\yolov5_workspace\\syndata-generation\\hawking_output_dir\\images\\121_none.jpg\n",
      "c:\\GitRepos\\yolov5_workspace\\syndata-generation\\hawking_output_dir\\images\\122_none.jpg\n",
      "c:\\GitRepos\\yolov5_workspace\\syndata-generation\\hawking_output_dir\\images\\123_none.jpg\n",
      "c:\\GitRepos\\yolov5_workspace\\syndata-generation\\hawking_output_dir\\images\\124_none.jpg\n",
      "c:\\GitRepos\\yolov5_workspace\\syndata-generation\\hawking_output_dir\\images\\125_none.jpg\n",
      "c:\\GitRepos\\yolov5_workspace\\syndata-generation\\hawking_output_dir\\images\\126_none.jpg\n",
      "c:\\GitRepos\\yolov5_workspace\\syndata-generation\\hawking_output_dir\\images\\127_none.jpg\n"
     ]
    }
   ],
   "source": [
    "count = 0\n",
    "for image_path in image_dir.glob(\"*none*.jpg\"):\n",
    "    print(image_path)\n",
    "    image = cv2.imread(str(image_path))\n",
    "    h, w = image.shape[:-1]\n",
    "    with open(label_dir / f\"{image_path.stem.split('_')[0]}.txt\", \"r\") as infile:\n",
    "        boxes = [line.strip().split(\" \") for line in infile.readlines()]\n",
    "        for i, box in enumerate(boxes):\n",
    "            boxes[i][1:] = map(float, box[1:])\n",
    "    for box in boxes:\n",
    "        x = int(box[1] * w)\n",
    "        y = int(box[2] * h)\n",
    "        width = int(box[3] * w)\n",
    "        height = int(box[4] * h)\n",
    "        image = cv2.rectangle(image, (x - width // 2, y - height // 2), (x + width // 2, y + height // 2), (255, 0, 0), 2)\n",
    "    cv2.imwrite(str(output_dir / image_path.name), image)\n",
    "    count += 1\n",
    "    if count == 30:\n",
    "        break"
   ]
  },
  {
   "cell_type": "code",
   "execution_count": 55,
   "metadata": {},
   "outputs": [],
   "source": [
    "for path in output_dir.glob(\"*.jpg\"):\n",
    "    os.remove(image_dir / \"test\" / path.name)\n",
    "    os.remove(label_dir / \"test / f\"{path.stem}.txt\")\n",
    "    # print(path)\n",
    "    # print((image_dir / \"train\" / path.name).exists(), (label_dir / \"train\" / f\"{path.stem}.txt\").exists())"
   ]
  },
  {
   "cell_type": "code",
   "execution_count": 4,
   "metadata": {},
   "outputs": [],
   "source": [
    "original_stems = [path.stem for path in (image_dir / subset).glob(\"[0-9]*.jpg\")]\n",
    "filtered_stems = [path.stem for path in output_dir.glob(\"*.jpg\")]"
   ]
  },
  {
   "cell_type": "code",
   "execution_count": 5,
   "metadata": {},
   "outputs": [
    {
     "output_type": "stream",
     "name": "stdout",
     "text": [
      "4193 4083\n"
     ]
    }
   ],
   "source": [
    "print(len(original_stems), len(filtered_stems))"
   ]
  },
  {
   "cell_type": "code",
   "execution_count": 6,
   "metadata": {},
   "outputs": [],
   "source": [
    "removal_stems = list(set(original_stems) - set(filtered_stems))"
   ]
  },
  {
   "cell_type": "code",
   "execution_count": 7,
   "metadata": {},
   "outputs": [],
   "source": [
    "for stem in removal_stems:\n",
    "    os.remove(image_dir / subset / f\"{stem}.jpg\")\n",
    "    os.remove(label_dir / subset / f\"{stem}.txt\")"
   ]
  }
 ]
}